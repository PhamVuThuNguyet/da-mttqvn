{
 "cells": [
  {
   "cell_type": "code",
   "execution_count": 1,
   "metadata": {},
   "outputs": [],
   "source": [
    "import pdfplumber\n",
    "import pandas as pd\n",
    "\n",
    "import re\n",
    "\n",
    "from csv import writer"
   ]
  },
  {
   "cell_type": "markdown",
   "metadata": {},
   "source": [
    "# Convert PDF to CSV"
   ]
  },
  {
   "cell_type": "code",
   "execution_count": 2,
   "metadata": {},
   "outputs": [],
   "source": [
    "# Open PDF file\n",
    "pdf = pdfplumber.open(\"data/sao-ke-092024.pdf\")"
   ]
  },
  {
   "cell_type": "code",
   "execution_count": 3,
   "metadata": {},
   "outputs": [
    {
     "data": {
      "text/plain": [
       "12028"
      ]
     },
     "execution_count": 3,
     "metadata": {},
     "output_type": "execute_result"
    }
   ],
   "source": [
    "# Check number of pages\n",
    "len(pdf.pages)"
   ]
  },
  {
   "cell_type": "code",
   "execution_count": null,
   "metadata": {},
   "outputs": [],
   "source": [
    "page_0 = pdf.pages[1]\n",
    "\n",
    "sample = page_0.extract_text_simple()\n",
    "\n",
    "sample"
   ]
  },
  {
   "cell_type": "code",
   "execution_count": null,
   "metadata": {},
   "outputs": [],
   "source": [
    "VALID_START = \"Doc No\"\n",
    "\n",
    "VALID_END = \"\\nPostal address\"\n",
    "\n",
    "valid_sample = sample.split(VALID_START)[1].split(VALID_END)[0]\n",
    "\n",
    "valid_sample"
   ]
  },
  {
   "cell_type": "code",
   "execution_count": 6,
   "metadata": {},
   "outputs": [],
   "source": [
    "SPLIT_PATTERN = r'\\n\\d{2}/\\d{2}/\\d{4}'"
   ]
  },
  {
   "cell_type": "code",
   "execution_count": null,
   "metadata": {},
   "outputs": [],
   "source": [
    "parts = re.split(f'({SPLIT_PATTERN})', valid_sample)\n",
    "\n",
    "parts"
   ]
  },
  {
   "cell_type": "code",
   "execution_count": null,
   "metadata": {},
   "outputs": [],
   "source": [
    "len(parts)"
   ]
  },
  {
   "cell_type": "code",
   "execution_count": null,
   "metadata": {},
   "outputs": [],
   "source": [
    "substrings = [(parts[i] + parts[i+1]).strip() for i in range(1, len(parts)-1, 2) if parts[i].strip()]\n",
    "\n",
    "substrings"
   ]
  },
  {
   "cell_type": "code",
   "execution_count": null,
   "metadata": {},
   "outputs": [],
   "source": [
    "# Get Date\n",
    "date_pattern = r'\\b\\d{2}/\\d{2}/\\d{4}\\b'\n",
    "re.search(date_pattern, substrings[0]).group(0)"
   ]
  },
  {
   "cell_type": "code",
   "execution_count": null,
   "metadata": {},
   "outputs": [],
   "source": [
    "# Get Amount\n",
    "substrings[0].split(\"\\n\", 1)[1].split()[0]"
   ]
  },
  {
   "cell_type": "code",
   "execution_count": null,
   "metadata": {},
   "outputs": [],
   "source": [
    "# Get Message\n",
    "substrings[0].split(\"\\n\", 1)[1].strip().replace(\"  \", \" \").split(\" \", 1)[1]"
   ]
  },
  {
   "cell_type": "code",
   "execution_count": null,
   "metadata": {},
   "outputs": [],
   "source": [
    "timestamp_pattern = r'\\n\\d{4}\\.\\d+'\n",
    "re.sub(timestamp_pattern, '', substrings[14].split(\"\\n\", 1)[1].strip().replace(\"  \", \" \").split(\" \", 1)[1])"
   ]
  },
  {
   "cell_type": "code",
   "execution_count": 4,
   "metadata": {},
   "outputs": [],
   "source": [
    "def get_clean_data_row(text):\n",
    "    # Get Date\n",
    "    date_pattern = r'\\b\\d{2}/\\d{2}/\\d{4}\\b'\n",
    "    date = re.search(date_pattern, text).group(0)\n",
    "\n",
    "    # Get Amount\n",
    "    amount = text.split(\"\\n\", 1)[1].split()[0]\n",
    "\n",
    "    # Get Message\n",
    "    message = text.split(\"\\n\", 1)[1].strip().replace(\"  \", \" \").split(\" \", 1)[1]\n",
    "    timestamp_pattern = r'\\n\\d{4}\\.\\d+'\n",
    "    message = re.sub(timestamp_pattern, '', message)\n",
    "\n",
    "    return [date, amount, message]\n",
    "\n",
    "\n",
    "def convert_data_to_list(text) -> list:\n",
    "    SPLIT_PATTERN = r'\\n\\d{2}/\\d{2}/\\d{4}'\n",
    "    parts = re.split(f'({SPLIT_PATTERN})', text)\n",
    "    sub_samples = [(parts[i] + parts[i+1]).strip() for i in range(1, len(parts)-1, 2) if parts[i].strip()]\n",
    "    return sub_samples\n",
    "\n",
    "    \n",
    "def get_valid_data(text) -> str:\n",
    "    VALID_START = \"Doc No\"\n",
    "    VALID_END = \"\\nPostal address\"\n",
    "\n",
    "    return text.split(VALID_START)[1].split(VALID_END)[0]"
   ]
  },
  {
   "cell_type": "code",
   "execution_count": null,
   "metadata": {},
   "outputs": [],
   "source": [
    "# Create DataFrame\n",
    "df = pd.DataFrame(columns=[\"Date\", \"Credit\", \"Message\"])\n",
    "\n",
    "df"
   ]
  },
  {
   "cell_type": "code",
   "execution_count": 11,
   "metadata": {},
   "outputs": [],
   "source": [
    "df.to_csv(\"data/sao-ke-092024.csv\", encoding=\"utf-8\", index=False)"
   ]
  },
  {
   "cell_type": "code",
   "execution_count": null,
   "metadata": {},
   "outputs": [],
   "source": [
    "for i in range(8791, len(pdf.pages)):\n",
    "    print(f\"===============Processing Page {i+1}===================\")\n",
    "\n",
    "    page = pdf.pages[i]\n",
    "    text = page.extract_text_simple()\n",
    "\n",
    "    valid_text = get_valid_data(text)\n",
    "    rows = convert_data_to_list(valid_text)\n",
    "    \n",
    "    for row in rows:\n",
    "        clean_data = get_clean_data_row(row)\n",
    "\n",
    "        with open(\"data/sao-ke-092024.csv\", encoding=\"utf-8\", mode=\"a\") as f:\n",
    "            csv_writer = writer(f)\n",
    "            csv_writer.writerow(clean_data)\n",
    "            f.close()"
   ]
  },
  {
   "cell_type": "code",
   "execution_count": 2,
   "metadata": {},
   "outputs": [],
   "source": [
    "df = pd.read_csv(\"data/sao-ke-092024.csv\", encoding=\"utf-8\")"
   ]
  },
  {
   "cell_type": "code",
   "execution_count": 3,
   "metadata": {},
   "outputs": [
    {
     "data": {
      "text/html": [
       "<div>\n",
       "<style scoped>\n",
       "    .dataframe tbody tr th:only-of-type {\n",
       "        vertical-align: middle;\n",
       "    }\n",
       "\n",
       "    .dataframe tbody tr th {\n",
       "        vertical-align: top;\n",
       "    }\n",
       "\n",
       "    .dataframe thead th {\n",
       "        text-align: right;\n",
       "    }\n",
       "</style>\n",
       "<table border=\"1\" class=\"dataframe\">\n",
       "  <thead>\n",
       "    <tr style=\"text-align: right;\">\n",
       "      <th></th>\n",
       "      <th>Date</th>\n",
       "      <th>Credit</th>\n",
       "      <th>Message</th>\n",
       "    </tr>\n",
       "  </thead>\n",
       "  <tbody>\n",
       "    <tr>\n",
       "      <th>0</th>\n",
       "      <td>01/09/2024</td>\n",
       "      <td>50.000</td>\n",
       "      <td>292976.010924.013647.xin cam on</td>\n",
       "    </tr>\n",
       "    <tr>\n",
       "      <th>1</th>\n",
       "      <td>01/09/2024</td>\n",
       "      <td>20.000</td>\n",
       "      <td>VCB.CTDK.31/03/2024.ADIDA PHAT. CT tu\\r\\n04810...</td>\n",
       "    </tr>\n",
       "    <tr>\n",
       "      <th>2</th>\n",
       "      <td>01/09/2024</td>\n",
       "      <td>29.000</td>\n",
       "      <td>MBVCB.6916176124.CAO VIET TUAN\\r\\nchuyen tien....</td>\n",
       "    </tr>\n",
       "    <tr>\n",
       "      <th>3</th>\n",
       "      <td>01/09/2024</td>\n",
       "      <td>3.000</td>\n",
       "      <td>272986.010924.101858.DO DUC LOI chuyen\\r\\ntien</td>\n",
       "    </tr>\n",
       "    <tr>\n",
       "      <th>4</th>\n",
       "      <td>01/09/2024</td>\n",
       "      <td>3.000</td>\n",
       "      <td>020097040509011046122024JDC5013867.96713\\r\\n.1...</td>\n",
       "    </tr>\n",
       "  </tbody>\n",
       "</table>\n",
       "</div>"
      ],
      "text/plain": [
       "         Date  Credit                                            Message\n",
       "0  01/09/2024  50.000                    292976.010924.013647.xin cam on\n",
       "1  01/09/2024  20.000  VCB.CTDK.31/03/2024.ADIDA PHAT. CT tu\\r\\n04810...\n",
       "2  01/09/2024  29.000  MBVCB.6916176124.CAO VIET TUAN\\r\\nchuyen tien....\n",
       "3  01/09/2024   3.000     272986.010924.101858.DO DUC LOI chuyen\\r\\ntien\n",
       "4  01/09/2024   3.000  020097040509011046122024JDC5013867.96713\\r\\n.1..."
      ]
     },
     "execution_count": 3,
     "metadata": {},
     "output_type": "execute_result"
    }
   ],
   "source": [
    "df.head()"
   ]
  },
  {
   "cell_type": "code",
   "execution_count": 4,
   "metadata": {},
   "outputs": [
    {
     "data": {
      "text/html": [
       "<div>\n",
       "<style scoped>\n",
       "    .dataframe tbody tr th:only-of-type {\n",
       "        vertical-align: middle;\n",
       "    }\n",
       "\n",
       "    .dataframe tbody tr th {\n",
       "        vertical-align: top;\n",
       "    }\n",
       "\n",
       "    .dataframe thead th {\n",
       "        text-align: right;\n",
       "    }\n",
       "</style>\n",
       "<table border=\"1\" class=\"dataframe\">\n",
       "  <thead>\n",
       "    <tr style=\"text-align: right;\">\n",
       "      <th></th>\n",
       "      <th>Date</th>\n",
       "      <th>Credit</th>\n",
       "      <th>Message</th>\n",
       "    </tr>\n",
       "  </thead>\n",
       "  <tbody>\n",
       "    <tr>\n",
       "      <th>200360</th>\n",
       "      <td>10/09/2024</td>\n",
       "      <td>500.000</td>\n",
       "      <td>MBVCB.6998628625.Cuu tro thiet hai bao\\r\\nYagi...</td>\n",
       "    </tr>\n",
       "    <tr>\n",
       "      <th>200361</th>\n",
       "      <td>10/09/2024</td>\n",
       "      <td>300.000</td>\n",
       "      <td>884114.100924.223854.DANG DAO THANH\\r\\nNHAN ch...</td>\n",
       "    </tr>\n",
       "    <tr>\n",
       "      <th>200362</th>\n",
       "      <td>10/09/2024</td>\n",
       "      <td>100.000</td>\n",
       "      <td>243304.100924.223855.Ung ho dong bao bi\\r\\nbao lu</td>\n",
       "    </tr>\n",
       "    <tr>\n",
       "      <th>200363</th>\n",
       "      <td>10/09/2024</td>\n",
       "      <td>200.000</td>\n",
       "      <td>884140.100924.223855.Nga Pham chuyen tien\\r\\nF...</td>\n",
       "    </tr>\n",
       "    <tr>\n",
       "      <th>200364</th>\n",
       "      <td>10/09/2024</td>\n",
       "      <td>46.667</td>\n",
       "      <td>807439.100924.223851.cua it long nhieu...</td>\n",
       "    </tr>\n",
       "  </tbody>\n",
       "</table>\n",
       "</div>"
      ],
      "text/plain": [
       "              Date   Credit                                            Message\n",
       "200360  10/09/2024  500.000  MBVCB.6998628625.Cuu tro thiet hai bao\\r\\nYagi...\n",
       "200361  10/09/2024  300.000  884114.100924.223854.DANG DAO THANH\\r\\nNHAN ch...\n",
       "200362  10/09/2024  100.000  243304.100924.223855.Ung ho dong bao bi\\r\\nbao lu\n",
       "200363  10/09/2024  200.000  884140.100924.223855.Nga Pham chuyen tien\\r\\nF...\n",
       "200364  10/09/2024   46.667          807439.100924.223851.cua it long nhieu..."
      ]
     },
     "execution_count": 4,
     "metadata": {},
     "output_type": "execute_result"
    }
   ],
   "source": [
    "df.tail()"
   ]
  },
  {
   "cell_type": "code",
   "execution_count": 20,
   "metadata": {},
   "outputs": [
    {
     "data": {
      "text/plain": [
       "200365"
      ]
     },
     "execution_count": 20,
     "metadata": {},
     "output_type": "execute_result"
    }
   ],
   "source": [
    "len(df)"
   ]
  },
  {
   "cell_type": "code",
   "execution_count": 7,
   "metadata": {},
   "outputs": [
    {
     "data": {
      "text/plain": [
       "Credit\n",
       "100.000      43602\n",
       "200.000      43021\n",
       "500.000      32081\n",
       "1.000.000    19626\n",
       "50.000       14857\n",
       "             ...  \n",
       "110.521          1\n",
       "12.504           1\n",
       "7.113            1\n",
       "33.355           1\n",
       "28.887           1\n",
       "Name: count, Length: 3629, dtype: int64"
      ]
     },
     "execution_count": 7,
     "metadata": {},
     "output_type": "execute_result"
    }
   ],
   "source": [
    "df[\"Credit\"].value_counts()"
   ]
  },
  {
   "cell_type": "code",
   "execution_count": null,
   "metadata": {},
   "outputs": [],
   "source": []
  }
 ],
 "metadata": {
  "kernelspec": {
   "display_name": "data-analysis-mttqvn",
   "language": "python",
   "name": "python3"
  },
  "language_info": {
   "codemirror_mode": {
    "name": "ipython",
    "version": 3
   },
   "file_extension": ".py",
   "mimetype": "text/x-python",
   "name": "python",
   "nbconvert_exporter": "python",
   "pygments_lexer": "ipython3",
   "version": "3.10.11"
  }
 },
 "nbformat": 4,
 "nbformat_minor": 2
}
